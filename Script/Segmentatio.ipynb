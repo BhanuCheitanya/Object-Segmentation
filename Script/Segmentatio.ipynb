{
 "cells": [
  {
   "cell_type": "code",
   "execution_count": 1,
   "id": "15c34cb9",
   "metadata": {},
   "outputs": [],
   "source": [
    "import cv2\n",
    "import matplotlib.pyplot as plt \n",
    "import numpy as np \n",
    "import pandas as pd \n",
    "import matplotlib.image as mping\n",
    "from keras import backend as K\n",
    "import os\n",
    "from os import listdir"
   ]
  },
  {
   "cell_type": "code",
   "execution_count": 822,
   "id": "69d06a62",
   "metadata": {},
   "outputs": [],
   "source": [
    "pf= r\"C:\\Users\\Haritasa\\Downloads\\skin lesion dataset(1) (1)\\org data\\ISIC_0000220.jpg\""
   ]
  },
  {
   "cell_type": "code",
   "execution_count": 823,
   "id": "70d9a91b",
   "metadata": {},
   "outputs": [
    {
     "data": {
      "text/plain": [
       "'ISIC_0000220'"
      ]
     },
     "execution_count": 823,
     "metadata": {},
     "output_type": "execute_result"
    }
   ],
   "source": [
    "import re\n",
    "res=re.findall(r'\\w+',pf)\n",
    "name=res[11]\n",
    "name"
   ]
  },
  {
   "cell_type": "code",
   "execution_count": 824,
   "id": "6809f2d3",
   "metadata": {},
   "outputs": [],
   "source": [
    "cv2_img_gray= cv2.imread(pf,0)\n",
    "#cv2.imshow('Input', cv2_img_gray)\n",
    "#cv2.waitKey(0)"
   ]
  },
  {
   "cell_type": "code",
   "execution_count": 825,
   "id": "38e4f630",
   "metadata": {},
   "outputs": [],
   "source": [
    "ret, thresh1= cv2.threshold(cv2_img_gray,138,255,cv2.THRESH_BINARY_INV)"
   ]
  },
  {
   "cell_type": "code",
   "execution_count": 826,
   "id": "b92fb537",
   "metadata": {},
   "outputs": [
    {
     "name": "stdout",
     "output_type": "stream",
     "text": [
      "ISIC_0000220\n"
     ]
    }
   ],
   "source": [
    "res=re.findall(r'\\w+',pf)\n",
    "name=res[11]\n",
    "name\n",
    "print(name)\n",
    "images= [thresh1]\n",
    "for i in range(1):\n",
    "    plt.figure(figsize=(40,40))\n",
    "    plt.subplot(2,3,i+1),plt.imshow(images[i],'gray')\n",
    "    plt.xticks([]), plt.yticks([])\n",
    "plt.savefig('C:/Users/Haritasa/Downloads/skin lesion dataset(1) (1)/Output/{}.png'.format(name))\n",
    "plt.close()"
   ]
  },
  {
   "cell_type": "code",
   "execution_count": 827,
   "id": "7c69760a",
   "metadata": {},
   "outputs": [],
   "source": [
    "def dice_coefficient(y_true,y_pred,smooth=1):\n",
    "    intersection= K.sum(y_true* y_pred, axis=[1,2,3])\n",
    "    union= K.sum(y_true, axis=[1,2,3])+ K.sum(y_pred, axis=[1,2,3])\n",
    "    return K.mean((2*intersection+smooth)/(union+smooth), axis=0)"
   ]
  },
  {
   "cell_type": "code",
   "execution_count": 828,
   "id": "a0dac9e3",
   "metadata": {},
   "outputs": [
    {
     "name": "stdout",
     "output_type": "stream",
     "text": [
      "ISIC_0000220\n",
      "(1129, 1504, 3)\n",
      "(1129, 1504, 3)\n"
     ]
    }
   ],
   "source": [
    "res=re.findall(r'\\w+',pf)\n",
    "name=res[11]\n",
    "name\n",
    "print(name)\n",
    "images= [thresh1]\n",
    "y_pred= cv2.imread(r\"C:\\Users\\Haritasa\\Downloads\\skin lesion dataset(1) (1)\\org data\\ISIC_0000019.jpg\")/255\n",
    "y_true= cv2.imread(r\"C:\\Users\\Haritasa\\Downloads\\skin lesion dataset(1) (1)\\Output\\{}.png\".format(name))/255\n",
    "y_true= cv2.resize(y_true,(1504,1129),interpolation= cv2.INTER_AREA)\n",
    "print(y_pred.shape)\n",
    "print(y_true.shape)"
   ]
  },
  {
   "cell_type": "code",
   "execution_count": 829,
   "id": "2d5a32bb",
   "metadata": {},
   "outputs": [
    {
     "name": "stdout",
     "output_type": "stream",
     "text": [
      "(1, 1129, 1504, 3)\n",
      "(1, 1129, 1504, 3)\n"
     ]
    }
   ],
   "source": [
    "y_pred= y_pred.reshape((-1,1129, 1504, 3))\n",
    "y_true= y_true.reshape((-1,1129, 1504, 3))\n",
    "print(y_pred.shape)\n",
    "print(y_true.shape)"
   ]
  },
  {
   "cell_type": "code",
   "execution_count": 830,
   "id": "f996cd5a",
   "metadata": {},
   "outputs": [
    {
     "name": "stdout",
     "output_type": "stream",
     "text": [
      "Dice Coefficient:0.7595133144134085\n"
     ]
    }
   ],
   "source": [
    "dice_score= dice_coefficient(y_true,y_pred)\n",
    "print(\"Dice Coefficient:{}\".format(dice_score))"
   ]
  },
  {
   "cell_type": "markdown",
   "id": "539055c1",
   "metadata": {},
   "source": [
    "Run the next code once and then comment it out. "
   ]
  },
  {
   "cell_type": "code",
   "execution_count": 866,
   "id": "0920a5b2",
   "metadata": {},
   "outputs": [],
   "source": [
    "#res=re.findall(r'\\w+',pf)\n",
    "#name=res[11]\n",
    "#name\n",
    "#print(name)\n",
    "#images= [thresh1]\n",
    "#df2= pd.DataFrame({'Number':[name],\"Dice_Score\":format(dice_score)})"
   ]
  },
  {
   "cell_type": "code",
   "execution_count": 832,
   "id": "b6327091",
   "metadata": {},
   "outputs": [
    {
     "name": "stdout",
     "output_type": "stream",
     "text": [
      "ISIC_0000220\n"
     ]
    }
   ],
   "source": [
    "res=re.findall(r'\\w+',pf)\n",
    "name=res[11]\n",
    "name\n",
    "print(name)\n",
    "images= [thresh1]\n",
    "df3= pd.DataFrame({'Number':[name],\"Dice_Score\":format(dice_score)})\n"
   ]
  },
  {
   "cell_type": "code",
   "execution_count": 833,
   "id": "99a75455",
   "metadata": {},
   "outputs": [],
   "source": [
    "df2=pd.concat([df2,df3])"
   ]
  },
  {
   "cell_type": "code",
   "execution_count": 834,
   "id": "15e81c47",
   "metadata": {},
   "outputs": [
    {
     "data": {
      "text/html": [
       "<div>\n",
       "<style scoped>\n",
       "    .dataframe tbody tr th:only-of-type {\n",
       "        vertical-align: middle;\n",
       "    }\n",
       "\n",
       "    .dataframe tbody tr th {\n",
       "        vertical-align: top;\n",
       "    }\n",
       "\n",
       "    .dataframe thead th {\n",
       "        text-align: right;\n",
       "    }\n",
       "</style>\n",
       "<table border=\"1\" class=\"dataframe\">\n",
       "  <thead>\n",
       "    <tr style=\"text-align: right;\">\n",
       "      <th></th>\n",
       "      <th>Number</th>\n",
       "      <th>Dice_Score</th>\n",
       "    </tr>\n",
       "  </thead>\n",
       "  <tbody>\n",
       "    <tr>\n",
       "      <th>0</th>\n",
       "      <td>ISIC_0000017</td>\n",
       "      <td>0.7600368293657739</td>\n",
       "    </tr>\n",
       "    <tr>\n",
       "      <th>0</th>\n",
       "      <td>ISIC_0000018</td>\n",
       "      <td>0.7605925662572187</td>\n",
       "    </tr>\n",
       "    <tr>\n",
       "      <th>0</th>\n",
       "      <td>ISIC_0000011</td>\n",
       "      <td>0.7630247987674185</td>\n",
       "    </tr>\n",
       "    <tr>\n",
       "      <th>0</th>\n",
       "      <td>ISIC_0000019</td>\n",
       "      <td>0.7613385419168324</td>\n",
       "    </tr>\n",
       "    <tr>\n",
       "      <th>0</th>\n",
       "      <td>ISIC_0000021</td>\n",
       "      <td>0.7608252487939042</td>\n",
       "    </tr>\n",
       "    <tr>\n",
       "      <th>0</th>\n",
       "      <td>ISIC_0000034</td>\n",
       "      <td>0.7607892079457845</td>\n",
       "    </tr>\n",
       "    <tr>\n",
       "      <th>0</th>\n",
       "      <td>ISIC_0000039</td>\n",
       "      <td>0.7607186626551693</td>\n",
       "    </tr>\n",
       "    <tr>\n",
       "      <th>0</th>\n",
       "      <td>ISIC_0000041</td>\n",
       "      <td>0.7595973565485683</td>\n",
       "    </tr>\n",
       "    <tr>\n",
       "      <th>0</th>\n",
       "      <td>ISIC_0000042</td>\n",
       "      <td>0.7610414204917648</td>\n",
       "    </tr>\n",
       "    <tr>\n",
       "      <th>0</th>\n",
       "      <td>ISIC_0000047</td>\n",
       "      <td>0.7605073199536803</td>\n",
       "    </tr>\n",
       "    <tr>\n",
       "      <th>0</th>\n",
       "      <td>ISIC_0000048</td>\n",
       "      <td>0.7619337836302358</td>\n",
       "    </tr>\n",
       "    <tr>\n",
       "      <th>0</th>\n",
       "      <td>ISIC_0000051</td>\n",
       "      <td>0.7610871672315137</td>\n",
       "    </tr>\n",
       "    <tr>\n",
       "      <th>0</th>\n",
       "      <td>ISIC_0000054</td>\n",
       "      <td>0.7601192037581646</td>\n",
       "    </tr>\n",
       "    <tr>\n",
       "      <th>0</th>\n",
       "      <td>ISIC_0000055</td>\n",
       "      <td>0.7603062565638026</td>\n",
       "    </tr>\n",
       "    <tr>\n",
       "      <th>0</th>\n",
       "      <td>ISIC_0000058</td>\n",
       "      <td>0.7609404661154743</td>\n",
       "    </tr>\n",
       "    <tr>\n",
       "      <th>0</th>\n",
       "      <td>ISIC_0000059</td>\n",
       "      <td>0.7607737211971706</td>\n",
       "    </tr>\n",
       "    <tr>\n",
       "      <th>0</th>\n",
       "      <td>ISIC_0000061</td>\n",
       "      <td>0.7610951500243178</td>\n",
       "    </tr>\n",
       "    <tr>\n",
       "      <th>0</th>\n",
       "      <td>ISIC_0000062</td>\n",
       "      <td>0.7592533028802235</td>\n",
       "    </tr>\n",
       "    <tr>\n",
       "      <th>0</th>\n",
       "      <td>ISIC_0000063</td>\n",
       "      <td>0.7613606247838732</td>\n",
       "    </tr>\n",
       "    <tr>\n",
       "      <th>0</th>\n",
       "      <td>ISIC_0000065</td>\n",
       "      <td>0.7610849640543053</td>\n",
       "    </tr>\n",
       "    <tr>\n",
       "      <th>0</th>\n",
       "      <td>ISIC_0000067</td>\n",
       "      <td>0.7616336136882509</td>\n",
       "    </tr>\n",
       "    <tr>\n",
       "      <th>0</th>\n",
       "      <td>ISIC_0000068</td>\n",
       "      <td>0.7621147683875653</td>\n",
       "    </tr>\n",
       "    <tr>\n",
       "      <th>0</th>\n",
       "      <td>ISIC_0000073</td>\n",
       "      <td>0.7618563989796664</td>\n",
       "    </tr>\n",
       "    <tr>\n",
       "      <th>0</th>\n",
       "      <td>ISIC_0000074</td>\n",
       "      <td>0.7635561085605587</td>\n",
       "    </tr>\n",
       "    <tr>\n",
       "      <th>0</th>\n",
       "      <td>ISIC_0000078</td>\n",
       "      <td>0.7620032811013039</td>\n",
       "    </tr>\n",
       "    <tr>\n",
       "      <th>0</th>\n",
       "      <td>ISIC_0000079</td>\n",
       "      <td>0.762876127945648</td>\n",
       "    </tr>\n",
       "    <tr>\n",
       "      <th>0</th>\n",
       "      <td>ISIC_0000080</td>\n",
       "      <td>0.7604025998812498</td>\n",
       "    </tr>\n",
       "    <tr>\n",
       "      <th>0</th>\n",
       "      <td>ISIC_0000082</td>\n",
       "      <td>0.7609009098258501</td>\n",
       "    </tr>\n",
       "    <tr>\n",
       "      <th>0</th>\n",
       "      <td>ISIC_0000086</td>\n",
       "      <td>0.7607616920857707</td>\n",
       "    </tr>\n",
       "    <tr>\n",
       "      <th>0</th>\n",
       "      <td>ISIC_0000087</td>\n",
       "      <td>0.7613879338279829</td>\n",
       "    </tr>\n",
       "    <tr>\n",
       "      <th>0</th>\n",
       "      <td>ISIC_0000089</td>\n",
       "      <td>0.7595124382801488</td>\n",
       "    </tr>\n",
       "    <tr>\n",
       "      <th>0</th>\n",
       "      <td>ISIC_0000093</td>\n",
       "      <td>0.7596103783483021</td>\n",
       "    </tr>\n",
       "    <tr>\n",
       "      <th>0</th>\n",
       "      <td>ISIC_0000095</td>\n",
       "      <td>0.7627035609244311</td>\n",
       "    </tr>\n",
       "    <tr>\n",
       "      <th>0</th>\n",
       "      <td>ISIC_0000102</td>\n",
       "      <td>0.7593426365658924</td>\n",
       "    </tr>\n",
       "    <tr>\n",
       "      <th>0</th>\n",
       "      <td>ISIC_0000103</td>\n",
       "      <td>0.7628622869733586</td>\n",
       "    </tr>\n",
       "    <tr>\n",
       "      <th>0</th>\n",
       "      <td>ISIC_0000108</td>\n",
       "      <td>0.7601044574022285</td>\n",
       "    </tr>\n",
       "    <tr>\n",
       "      <th>0</th>\n",
       "      <td>ISIC_0000119</td>\n",
       "      <td>0.75989751939185</td>\n",
       "    </tr>\n",
       "    <tr>\n",
       "      <th>0</th>\n",
       "      <td>ISIC_0000128</td>\n",
       "      <td>0.760188128783566</td>\n",
       "    </tr>\n",
       "    <tr>\n",
       "      <th>0</th>\n",
       "      <td>ISIC_0000134</td>\n",
       "      <td>0.7599923258360867</td>\n",
       "    </tr>\n",
       "    <tr>\n",
       "      <th>0</th>\n",
       "      <td>ISIC_0000135</td>\n",
       "      <td>0.7592241187728473</td>\n",
       "    </tr>\n",
       "    <tr>\n",
       "      <th>0</th>\n",
       "      <td>ISIC_0000137</td>\n",
       "      <td>0.7610596785220878</td>\n",
       "    </tr>\n",
       "    <tr>\n",
       "      <th>0</th>\n",
       "      <td>ISIC_0000139</td>\n",
       "      <td>0.7611081253764702</td>\n",
       "    </tr>\n",
       "    <tr>\n",
       "      <th>0</th>\n",
       "      <td>ISIC_0000145</td>\n",
       "      <td>0.7620527142798433</td>\n",
       "    </tr>\n",
       "    <tr>\n",
       "      <th>0</th>\n",
       "      <td>ISIC_0000148</td>\n",
       "      <td>0.7602691930268651</td>\n",
       "    </tr>\n",
       "    <tr>\n",
       "      <th>0</th>\n",
       "      <td>ISIC_0000153</td>\n",
       "      <td>0.7602535003907357</td>\n",
       "    </tr>\n",
       "    <tr>\n",
       "      <th>0</th>\n",
       "      <td>ISIC_0000154</td>\n",
       "      <td>0.7603851906285545</td>\n",
       "    </tr>\n",
       "    <tr>\n",
       "      <th>0</th>\n",
       "      <td>ISIC_0000157</td>\n",
       "      <td>0.7620554747367243</td>\n",
       "    </tr>\n",
       "    <tr>\n",
       "      <th>0</th>\n",
       "      <td>ISIC_0000171</td>\n",
       "      <td>0.7613471132225323</td>\n",
       "    </tr>\n",
       "    <tr>\n",
       "      <th>0</th>\n",
       "      <td>ISIC_0000175</td>\n",
       "      <td>0.7605123657107616</td>\n",
       "    </tr>\n",
       "    <tr>\n",
       "      <th>0</th>\n",
       "      <td>ISIC_0000176</td>\n",
       "      <td>0.7543793025825001</td>\n",
       "    </tr>\n",
       "    <tr>\n",
       "      <th>0</th>\n",
       "      <td>ISIC_0000185</td>\n",
       "      <td>0.7620230677193024</td>\n",
       "    </tr>\n",
       "    <tr>\n",
       "      <th>0</th>\n",
       "      <td>ISIC_0000186</td>\n",
       "      <td>0.7603457332550253</td>\n",
       "    </tr>\n",
       "    <tr>\n",
       "      <th>0</th>\n",
       "      <td>ISIC_0000191</td>\n",
       "      <td>0.7613195045163637</td>\n",
       "    </tr>\n",
       "    <tr>\n",
       "      <th>0</th>\n",
       "      <td>ISIC_0000199</td>\n",
       "      <td>0.7614936325847184</td>\n",
       "    </tr>\n",
       "    <tr>\n",
       "      <th>0</th>\n",
       "      <td>ISIC_0000204</td>\n",
       "      <td>0.7637942738880633</td>\n",
       "    </tr>\n",
       "    <tr>\n",
       "      <th>0</th>\n",
       "      <td>ISIC_0000206</td>\n",
       "      <td>0.7599651706949497</td>\n",
       "    </tr>\n",
       "    <tr>\n",
       "      <th>0</th>\n",
       "      <td>ISIC_0000211</td>\n",
       "      <td>0.7601481569897963</td>\n",
       "    </tr>\n",
       "    <tr>\n",
       "      <th>0</th>\n",
       "      <td>ISIC_0000214</td>\n",
       "      <td>0.7617795795905253</td>\n",
       "    </tr>\n",
       "    <tr>\n",
       "      <th>0</th>\n",
       "      <td>ISIC_0000218</td>\n",
       "      <td>0.7611935157357408</td>\n",
       "    </tr>\n",
       "    <tr>\n",
       "      <th>0</th>\n",
       "      <td>ISIC_0000220</td>\n",
       "      <td>0.7595133144134085</td>\n",
       "    </tr>\n",
       "  </tbody>\n",
       "</table>\n",
       "</div>"
      ],
      "text/plain": [
       "         Number          Dice_Score\n",
       "0  ISIC_0000017  0.7600368293657739\n",
       "0  ISIC_0000018  0.7605925662572187\n",
       "0  ISIC_0000011  0.7630247987674185\n",
       "0  ISIC_0000019  0.7613385419168324\n",
       "0  ISIC_0000021  0.7608252487939042\n",
       "0  ISIC_0000034  0.7607892079457845\n",
       "0  ISIC_0000039  0.7607186626551693\n",
       "0  ISIC_0000041  0.7595973565485683\n",
       "0  ISIC_0000042  0.7610414204917648\n",
       "0  ISIC_0000047  0.7605073199536803\n",
       "0  ISIC_0000048  0.7619337836302358\n",
       "0  ISIC_0000051  0.7610871672315137\n",
       "0  ISIC_0000054  0.7601192037581646\n",
       "0  ISIC_0000055  0.7603062565638026\n",
       "0  ISIC_0000058  0.7609404661154743\n",
       "0  ISIC_0000059  0.7607737211971706\n",
       "0  ISIC_0000061  0.7610951500243178\n",
       "0  ISIC_0000062  0.7592533028802235\n",
       "0  ISIC_0000063  0.7613606247838732\n",
       "0  ISIC_0000065  0.7610849640543053\n",
       "0  ISIC_0000067  0.7616336136882509\n",
       "0  ISIC_0000068  0.7621147683875653\n",
       "0  ISIC_0000073  0.7618563989796664\n",
       "0  ISIC_0000074  0.7635561085605587\n",
       "0  ISIC_0000078  0.7620032811013039\n",
       "0  ISIC_0000079   0.762876127945648\n",
       "0  ISIC_0000080  0.7604025998812498\n",
       "0  ISIC_0000082  0.7609009098258501\n",
       "0  ISIC_0000086  0.7607616920857707\n",
       "0  ISIC_0000087  0.7613879338279829\n",
       "0  ISIC_0000089  0.7595124382801488\n",
       "0  ISIC_0000093  0.7596103783483021\n",
       "0  ISIC_0000095  0.7627035609244311\n",
       "0  ISIC_0000102  0.7593426365658924\n",
       "0  ISIC_0000103  0.7628622869733586\n",
       "0  ISIC_0000108  0.7601044574022285\n",
       "0  ISIC_0000119    0.75989751939185\n",
       "0  ISIC_0000128   0.760188128783566\n",
       "0  ISIC_0000134  0.7599923258360867\n",
       "0  ISIC_0000135  0.7592241187728473\n",
       "0  ISIC_0000137  0.7610596785220878\n",
       "0  ISIC_0000139  0.7611081253764702\n",
       "0  ISIC_0000145  0.7620527142798433\n",
       "0  ISIC_0000148  0.7602691930268651\n",
       "0  ISIC_0000153  0.7602535003907357\n",
       "0  ISIC_0000154  0.7603851906285545\n",
       "0  ISIC_0000157  0.7620554747367243\n",
       "0  ISIC_0000171  0.7613471132225323\n",
       "0  ISIC_0000175  0.7605123657107616\n",
       "0  ISIC_0000176  0.7543793025825001\n",
       "0  ISIC_0000185  0.7620230677193024\n",
       "0  ISIC_0000186  0.7603457332550253\n",
       "0  ISIC_0000191  0.7613195045163637\n",
       "0  ISIC_0000199  0.7614936325847184\n",
       "0  ISIC_0000204  0.7637942738880633\n",
       "0  ISIC_0000206  0.7599651706949497\n",
       "0  ISIC_0000211  0.7601481569897963\n",
       "0  ISIC_0000214  0.7617795795905253\n",
       "0  ISIC_0000218  0.7611935157357408\n",
       "0  ISIC_0000220  0.7595133144134085"
      ]
     },
     "execution_count": 834,
     "metadata": {},
     "output_type": "execute_result"
    }
   ],
   "source": [
    "df2"
   ]
  },
  {
   "cell_type": "code",
   "execution_count": 837,
   "id": "1ac187e6",
   "metadata": {},
   "outputs": [],
   "source": [
    "df2.to_csv(r'C:\\Users\\Haritasa\\Downloads\\skin lesion dataset(1) (1)\\Output.csv')"
   ]
  },
  {
   "cell_type": "code",
   "execution_count": 853,
   "id": "9401595e",
   "metadata": {},
   "outputs": [
    {
     "name": "stdout",
     "output_type": "stream",
     "text": [
      "<class 'pandas.core.frame.DataFrame'>\n",
      "RangeIndex: 60 entries, 0 to 59\n",
      "Data columns (total 3 columns):\n",
      " #   Column      Non-Null Count  Dtype  \n",
      "---  ------      --------------  -----  \n",
      " 0   Unnamed: 0  60 non-null     int64  \n",
      " 1   Number      60 non-null     object \n",
      " 2   Dice_Score  60 non-null     float64\n",
      "dtypes: float64(1), int64(1), object(1)\n",
      "memory usage: 1.5+ KB\n"
     ]
    }
   ],
   "source": [
    "#Read the dataframe created.\n",
    "data=pd.read_csv(r'C:\\Users\\Haritasa\\Downloads\\skin lesion dataset(1) (1)\\Output.csv')\n",
    "data.info()"
   ]
  },
  {
   "cell_type": "code",
   "execution_count": 863,
   "id": "ea701a40",
   "metadata": {},
   "outputs": [
    {
     "data": {
      "image/png": "[encoded data removed]",
      "text/plain": [
       "<Figure size 720x1440 with 1 Axes>"
      ]
     },
     "metadata": {
      "needs_background": "light"
     },
     "output_type": "display_data"
    }
   ],
   "source": [
    "plot=data.plot.bar(x='Number',y='Dice_Score',figsize=(10,20))\n",
    "fig=plot.get_figure()\n",
    "fig.savefig(r\"C:\\Users\\Haritasa\\Downloads\\skin lesion dataset(1) (1)\\DS.png\")"
   ]
  },
  {
   "cell_type": "code",
   "execution_count": 864,
   "id": "67eb91b3",
   "metadata": {},
   "outputs": [
    {
     "name": "stdout",
     "output_type": "stream",
     "text": [
      "Mean: 0.7608726081060456\n"
     ]
    }
   ],
   "source": [
    "mean= df2['Dice_Score'].mean()\n",
    "print(\"Mean:\", mean)"
   ]
  },
  {
   "cell_type": "code",
   "execution_count": 865,
   "id": "5a7f2c0e",
   "metadata": {},
   "outputs": [
    {
     "name": "stdout",
     "output_type": "stream",
     "text": [
      "Standard Deviation: 0.0013553821261530503\n"
     ]
    }
   ],
   "source": [
    "std= df2['Dice_Score'].std()\n",
    "print(\"Standard Deviation:\", std)"
   ]
  },
  {
   "cell_type": "code",
   "execution_count": null,
   "id": "c7841c9d",
   "metadata": {},
   "outputs": [],
   "source": []
  }
 ],
 "metadata": {
  "kernelspec": {
   "display_name": "Python 3 (ipykernel)",
   "language": "python",
   "name": "python3"
  },
  "language_info": {
   "codemirror_mode": {
    "name": "ipython",
    "version": 3
   },
   "file_extension": ".py",
   "mimetype": "text/x-python",
   "name": "python",
   "nbconvert_exporter": "python",
   "pygments_lexer": "ipython3",
   "version": "3.9.7"
  }
 },
 "nbformat": 4,
 "nbformat_minor": 5
}
